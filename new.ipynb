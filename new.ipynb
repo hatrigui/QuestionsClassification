{
 "cells": [
  {
   "cell_type": "code",
   "execution_count": 1,
   "metadata": {},
   "outputs": [
    {
     "name": "stderr",
     "output_type": "stream",
     "text": [
      "[nltk_data] Downloading package punkt to\n",
      "[nltk_data]     C:\\Users\\la7tim\\AppData\\Roaming\\nltk_data...\n",
      "[nltk_data]   Package punkt is already up-to-date!\n",
      "[nltk_data] Downloading package stopwords to\n",
      "[nltk_data]     C:\\Users\\la7tim\\AppData\\Roaming\\nltk_data...\n",
      "[nltk_data]   Package stopwords is already up-to-date!\n"
     ]
    },
    {
     "data": {
      "text/plain": [
       "True"
      ]
     },
     "execution_count": 1,
     "metadata": {},
     "output_type": "execute_result"
    }
   ],
   "source": [
    "# Import Libraries\n",
    "import numpy as np\n",
    "import pandas as pd\n",
    "from sklearn.model_selection import train_test_split\n",
    "from sklearn.feature_extraction.text import TfidfVectorizer\n",
    "from sklearn.svm import LinearSVC\n",
    "from sklearn.metrics import classification_report, accuracy_score\n",
    "from sklearn.pipeline import Pipeline\n",
    "import nltk\n",
    "from nltk import word_tokenize\n",
    "from nltk.corpus import stopwords\n",
    "from sklearn.preprocessing import LabelEncoder\n",
    "\n",
    "nltk.download('punkt')\n",
    "nltk.download('stopwords')"
   ]
  },
  {
   "cell_type": "code",
   "execution_count": 2,
   "metadata": {},
   "outputs": [
    {
     "name": "stdout",
     "output_type": "stream",
     "text": [
      "                                            question coarse_label fine_label\n",
      "0  How did serfdom develop in and then leave Russ...         DESC     manner\n",
      "1   What films featured the character Popeye Doyle ?         ENTY     cremat\n",
      "2  How can I find a list of celebrities ' real na...         DESC     manner\n",
      "3  What fowl grabs the spotlight after the Chines...         ENTY     animal\n",
      "4                    What is the full form of .com ?         ABBR        exp\n"
     ]
    }
   ],
   "source": [
    "# Load Data Function (with coarse and fine label extraction)\n",
    "def load_data(file_path):\n",
    "    data = []\n",
    "    with open(file_path, 'r') as f:\n",
    "        for line in f:\n",
    "            # Split label and question\n",
    "            label, question = line.strip().split(' ', 1)\n",
    "            # Split coarse and fine labels\n",
    "            coarse_label, fine_label = label.split(':')\n",
    "            data.append({\"question\": question, \"coarse_label\": coarse_label, \"fine_label\": fine_label})\n",
    "    return pd.DataFrame(data)\n",
    "\n",
    "# Load Train and Test Sets\n",
    "train_set = load_data(\".\\\\data\\\\train_set5.txt\")\n",
    "test_set = load_data(\".\\\\data\\\\test_set.txt\")\n",
    "\n",
    "print(train_set.head())\n"
   ]
  },
  {
   "cell_type": "code",
   "execution_count": 3,
   "metadata": {},
   "outputs": [],
   "source": [
    "# Data Preprocessing\n",
    "def preprocess_data(questions):\n",
    "    stop_words = set(stopwords.words('english'))\n",
    "    return [\n",
    "        ' '.join([word.lower() for word in word_tokenize(q) if word.isalnum() and word.lower() not in stop_words])\n",
    "        for q in questions\n",
    "    ]\n",
    "\n",
    "train_set['cleaned_question'] = preprocess_data(train_set['question'])\n",
    "test_set['cleaned_question'] = preprocess_data(test_set['question'])"
   ]
  },
  {
   "cell_type": "code",
   "execution_count": 4,
   "metadata": {},
   "outputs": [],
   "source": [
    "# Encoding the labels (coarse and fine)\n",
    "coarse_encoder = LabelEncoder()\n",
    "fine_encoder = LabelEncoder()\n",
    "\n",
    "train_set['coarse_encoded'] = coarse_encoder.fit_transform(train_set['coarse_label'])\n",
    "train_set['fine_encoded'] = fine_encoder.fit_transform(train_set['fine_label'])\n",
    "\n",
    "test_set['coarse_encoded'] = coarse_encoder.transform(test_set['coarse_label'])\n",
    "test_set['fine_encoded'] = fine_encoder.transform(test_set['fine_label'])"
   ]
  },
  {
   "cell_type": "code",
   "execution_count": 5,
   "metadata": {},
   "outputs": [],
   "source": [
    "# Splitting train and test data\n",
    "X_train = train_set['cleaned_question']\n",
    "y_train_coarse = train_set['coarse_encoded']\n",
    "y_train_fine = train_set['fine_encoded']\n",
    "\n",
    "X_test = test_set['cleaned_question']\n",
    "y_test_coarse = test_set['coarse_encoded']\n",
    "y_test_fine = test_set['fine_encoded']"
   ]
  },
  {
   "cell_type": "code",
   "execution_count": 6,
   "metadata": {},
   "outputs": [
    {
     "name": "stderr",
     "output_type": "stream",
     "text": [
      "c:\\Users\\la7tim\\AppData\\Local\\Programs\\Python\\Python311\\Lib\\site-packages\\sklearn\\svm\\_classes.py:32: FutureWarning: The default value of `dual` will change from `True` to `'auto'` in 1.5. Set the value of `dual` explicitly to suppress the warning.\n",
      "  warnings.warn(\n"
     ]
    },
    {
     "data": {
      "text/html": [
       "<style>#sk-container-id-1 {color: black;}#sk-container-id-1 pre{padding: 0;}#sk-container-id-1 div.sk-toggleable {background-color: white;}#sk-container-id-1 label.sk-toggleable__label {cursor: pointer;display: block;width: 100%;margin-bottom: 0;padding: 0.3em;box-sizing: border-box;text-align: center;}#sk-container-id-1 label.sk-toggleable__label-arrow:before {content: \"▸\";float: left;margin-right: 0.25em;color: #696969;}#sk-container-id-1 label.sk-toggleable__label-arrow:hover:before {color: black;}#sk-container-id-1 div.sk-estimator:hover label.sk-toggleable__label-arrow:before {color: black;}#sk-container-id-1 div.sk-toggleable__content {max-height: 0;max-width: 0;overflow: hidden;text-align: left;background-color: #f0f8ff;}#sk-container-id-1 div.sk-toggleable__content pre {margin: 0.2em;color: black;border-radius: 0.25em;background-color: #f0f8ff;}#sk-container-id-1 input.sk-toggleable__control:checked~div.sk-toggleable__content {max-height: 200px;max-width: 100%;overflow: auto;}#sk-container-id-1 input.sk-toggleable__control:checked~label.sk-toggleable__label-arrow:before {content: \"▾\";}#sk-container-id-1 div.sk-estimator input.sk-toggleable__control:checked~label.sk-toggleable__label {background-color: #d4ebff;}#sk-container-id-1 div.sk-label input.sk-toggleable__control:checked~label.sk-toggleable__label {background-color: #d4ebff;}#sk-container-id-1 input.sk-hidden--visually {border: 0;clip: rect(1px 1px 1px 1px);clip: rect(1px, 1px, 1px, 1px);height: 1px;margin: -1px;overflow: hidden;padding: 0;position: absolute;width: 1px;}#sk-container-id-1 div.sk-estimator {font-family: monospace;background-color: #f0f8ff;border: 1px dotted black;border-radius: 0.25em;box-sizing: border-box;margin-bottom: 0.5em;}#sk-container-id-1 div.sk-estimator:hover {background-color: #d4ebff;}#sk-container-id-1 div.sk-parallel-item::after {content: \"\";width: 100%;border-bottom: 1px solid gray;flex-grow: 1;}#sk-container-id-1 div.sk-label:hover label.sk-toggleable__label {background-color: #d4ebff;}#sk-container-id-1 div.sk-serial::before {content: \"\";position: absolute;border-left: 1px solid gray;box-sizing: border-box;top: 0;bottom: 0;left: 50%;z-index: 0;}#sk-container-id-1 div.sk-serial {display: flex;flex-direction: column;align-items: center;background-color: white;padding-right: 0.2em;padding-left: 0.2em;position: relative;}#sk-container-id-1 div.sk-item {position: relative;z-index: 1;}#sk-container-id-1 div.sk-parallel {display: flex;align-items: stretch;justify-content: center;background-color: white;position: relative;}#sk-container-id-1 div.sk-item::before, #sk-container-id-1 div.sk-parallel-item::before {content: \"\";position: absolute;border-left: 1px solid gray;box-sizing: border-box;top: 0;bottom: 0;left: 50%;z-index: -1;}#sk-container-id-1 div.sk-parallel-item {display: flex;flex-direction: column;z-index: 1;position: relative;background-color: white;}#sk-container-id-1 div.sk-parallel-item:first-child::after {align-self: flex-end;width: 50%;}#sk-container-id-1 div.sk-parallel-item:last-child::after {align-self: flex-start;width: 50%;}#sk-container-id-1 div.sk-parallel-item:only-child::after {width: 0;}#sk-container-id-1 div.sk-dashed-wrapped {border: 1px dashed gray;margin: 0 0.4em 0.5em 0.4em;box-sizing: border-box;padding-bottom: 0.4em;background-color: white;}#sk-container-id-1 div.sk-label label {font-family: monospace;font-weight: bold;display: inline-block;line-height: 1.2em;}#sk-container-id-1 div.sk-label-container {text-align: center;}#sk-container-id-1 div.sk-container {/* jupyter's `normalize.less` sets `[hidden] { display: none; }` but bootstrap.min.css set `[hidden] { display: none !important; }` so we also need the `!important` here to be able to override the default hidden behavior on the sphinx rendered scikit-learn.org. See: https://github.com/scikit-learn/scikit-learn/issues/21755 */display: inline-block !important;position: relative;}#sk-container-id-1 div.sk-text-repr-fallback {display: none;}</style><div id=\"sk-container-id-1\" class=\"sk-top-container\"><div class=\"sk-text-repr-fallback\"><pre>Pipeline(steps=[(&#x27;tfidf&#x27;, TfidfVectorizer(max_features=5000)),\n",
       "                (&#x27;classifier&#x27;, LinearSVC())])</pre><b>In a Jupyter environment, please rerun this cell to show the HTML representation or trust the notebook. <br />On GitHub, the HTML representation is unable to render, please try loading this page with nbviewer.org.</b></div><div class=\"sk-container\" hidden><div class=\"sk-item sk-dashed-wrapped\"><div class=\"sk-label-container\"><div class=\"sk-label sk-toggleable\"><input class=\"sk-toggleable__control sk-hidden--visually\" id=\"sk-estimator-id-1\" type=\"checkbox\" ><label for=\"sk-estimator-id-1\" class=\"sk-toggleable__label sk-toggleable__label-arrow\">Pipeline</label><div class=\"sk-toggleable__content\"><pre>Pipeline(steps=[(&#x27;tfidf&#x27;, TfidfVectorizer(max_features=5000)),\n",
       "                (&#x27;classifier&#x27;, LinearSVC())])</pre></div></div></div><div class=\"sk-serial\"><div class=\"sk-item\"><div class=\"sk-estimator sk-toggleable\"><input class=\"sk-toggleable__control sk-hidden--visually\" id=\"sk-estimator-id-2\" type=\"checkbox\" ><label for=\"sk-estimator-id-2\" class=\"sk-toggleable__label sk-toggleable__label-arrow\">TfidfVectorizer</label><div class=\"sk-toggleable__content\"><pre>TfidfVectorizer(max_features=5000)</pre></div></div></div><div class=\"sk-item\"><div class=\"sk-estimator sk-toggleable\"><input class=\"sk-toggleable__control sk-hidden--visually\" id=\"sk-estimator-id-3\" type=\"checkbox\" ><label for=\"sk-estimator-id-3\" class=\"sk-toggleable__label sk-toggleable__label-arrow\">LinearSVC</label><div class=\"sk-toggleable__content\"><pre>LinearSVC()</pre></div></div></div></div></div></div></div>"
      ],
      "text/plain": [
       "Pipeline(steps=[('tfidf', TfidfVectorizer(max_features=5000)),\n",
       "                ('classifier', LinearSVC())])"
      ]
     },
     "execution_count": 6,
     "metadata": {},
     "output_type": "execute_result"
    }
   ],
   "source": [
    "# Step 1: Coarse Classification - Training the Coarse Classifier\n",
    "coarse_classifier = Pipeline([\n",
    "    ('tfidf', TfidfVectorizer(max_features=5000)),\n",
    "    ('classifier', LinearSVC())\n",
    "])\n",
    "\n",
    "# Training the coarse classifier\n",
    "coarse_classifier.fit(X_train, y_train_coarse)"
   ]
  },
  {
   "cell_type": "code",
   "execution_count": 7,
   "metadata": {},
   "outputs": [
    {
     "name": "stderr",
     "output_type": "stream",
     "text": [
      "c:\\Users\\la7tim\\AppData\\Local\\Programs\\Python\\Python311\\Lib\\site-packages\\sklearn\\svm\\_classes.py:32: FutureWarning: The default value of `dual` will change from `True` to `'auto'` in 1.5. Set the value of `dual` explicitly to suppress the warning.\n",
      "  warnings.warn(\n",
      "c:\\Users\\la7tim\\AppData\\Local\\Programs\\Python\\Python311\\Lib\\site-packages\\sklearn\\svm\\_classes.py:32: FutureWarning: The default value of `dual` will change from `True` to `'auto'` in 1.5. Set the value of `dual` explicitly to suppress the warning.\n",
      "  warnings.warn(\n",
      "c:\\Users\\la7tim\\AppData\\Local\\Programs\\Python\\Python311\\Lib\\site-packages\\sklearn\\svm\\_classes.py:32: FutureWarning: The default value of `dual` will change from `True` to `'auto'` in 1.5. Set the value of `dual` explicitly to suppress the warning.\n",
      "  warnings.warn(\n",
      "c:\\Users\\la7tim\\AppData\\Local\\Programs\\Python\\Python311\\Lib\\site-packages\\sklearn\\svm\\_classes.py:32: FutureWarning: The default value of `dual` will change from `True` to `'auto'` in 1.5. Set the value of `dual` explicitly to suppress the warning.\n",
      "  warnings.warn(\n",
      "c:\\Users\\la7tim\\AppData\\Local\\Programs\\Python\\Python311\\Lib\\site-packages\\sklearn\\svm\\_classes.py:32: FutureWarning: The default value of `dual` will change from `True` to `'auto'` in 1.5. Set the value of `dual` explicitly to suppress the warning.\n",
      "  warnings.warn(\n",
      "c:\\Users\\la7tim\\AppData\\Local\\Programs\\Python\\Python311\\Lib\\site-packages\\sklearn\\svm\\_classes.py:32: FutureWarning: The default value of `dual` will change from `True` to `'auto'` in 1.5. Set the value of `dual` explicitly to suppress the warning.\n",
      "  warnings.warn(\n"
     ]
    }
   ],
   "source": [
    "# Step 2: Fine Classification - Training Fine Classifiers for Each Coarse Class\n",
    "fine_classifiers = {}\n",
    "for coarse_label in np.unique(y_train_coarse):\n",
    "    idx = y_train_coarse == coarse_label\n",
    "    fine_X_train = np.array(X_train)[idx]\n",
    "    fine_y_train = np.array(y_train_fine)[idx]\n",
    "    \n",
    "    clf = Pipeline([\n",
    "        ('tfidf', TfidfVectorizer(max_features=5000)),\n",
    "        ('classifier', LinearSVC())\n",
    "    ])\n",
    "    clf.fit(fine_X_train, fine_y_train)\n",
    "    fine_classifiers[coarse_label] = clf"
   ]
  },
  {
   "cell_type": "code",
   "execution_count": 8,
   "metadata": {},
   "outputs": [],
   "source": [
    "# Step 3: Predicting Coarse Labels and Fine Labels for Test Set\n",
    "coarse_predictions = coarse_classifier.predict(X_test)\n",
    "\n",
    "fine_predictions = []\n",
    "for i, question in enumerate(X_test):\n",
    "    coarse_label = coarse_predictions[i]\n",
    "    clf = fine_classifiers[coarse_label]\n",
    "    fine_label = clf.predict([question])[0]\n",
    "    fine_predictions.append(fine_label)"
   ]
  },
  {
   "cell_type": "code",
   "execution_count": 12,
   "metadata": {},
   "outputs": [
    {
     "name": "stdout",
     "output_type": "stream",
     "text": [
      "Coarse Classification Report:\n",
      "              precision    recall  f1-score   support\n",
      "\n",
      "        ABBR       1.00      0.78      0.88         9\n",
      "        DESC       0.78      0.88      0.83       138\n",
      "        ENTY       0.78      0.68      0.73        94\n",
      "         HUM       0.60      0.86      0.70        65\n",
      "         LOC       0.71      0.67      0.69        81\n",
      "         NUM       0.92      0.70      0.79       113\n",
      "\n",
      "    accuracy                           0.76       500\n",
      "   macro avg       0.80      0.76      0.77       500\n",
      "weighted avg       0.78      0.76      0.76       500\n",
      "\n",
      "Fine Classification Report:\n",
      "              precision    recall  f1-score   support\n",
      "\n",
      "         abb       0.00      0.00      0.00         1\n",
      "      animal       0.85      0.69      0.76        16\n",
      "        body       0.33      0.50      0.40         2\n",
      "        city       1.00      0.72      0.84        18\n",
      "        code       1.00      1.00      1.00        10\n",
      "       color       0.82      1.00      0.90         9\n",
      "       count       1.00      1.00      1.00         3\n",
      "     country       0.75      1.00      0.86         6\n",
      "      cremat       0.79      0.55      0.65        47\n",
      "    currency       0.81      0.84      0.82       123\n",
      "        date       0.38      0.30      0.33        10\n",
      "         def       0.50      0.50      0.50         2\n",
      "        desc       1.00      0.44      0.61        16\n",
      "      dismed       0.00      0.00      0.00         2\n",
      "        dist       0.86      0.75      0.80         8\n",
      "       event       0.60      0.75      0.67         4\n",
      "         exp       0.50      0.67      0.57         6\n",
      "        food       0.57      0.89      0.70        55\n",
      "          gr       1.00      1.00      1.00         1\n",
      "         ind       0.67      1.00      0.80         2\n",
      "      instru       0.12      1.00      0.22         2\n",
      "        lang       1.00      0.67      0.80         3\n",
      "      letter       1.00      0.67      0.80         3\n",
      "      manner       0.62      0.51      0.56        74\n",
      "       money       0.60      1.00      0.75         3\n",
      "       mount       0.60      0.75      0.67         8\n",
      "         ord       1.00      0.20      0.33         5\n",
      "       other       1.00      0.25      0.40         4\n",
      "        perc       0.25      0.17      0.20         6\n",
      "      period       1.00      1.00      1.00         6\n",
      "       plant       1.00      1.00      1.00         1\n",
      "     product       0.33      0.57      0.42         7\n",
      "      reason       0.83      0.33      0.48        15\n",
      "    religion       1.00      1.00      1.00         1\n",
      "       speed       1.00      0.80      0.89         5\n",
      "       sport       0.60      0.86      0.71         7\n",
      "       state       0.00      0.00      0.00         1\n",
      "   substance       1.00      0.50      0.67         4\n",
      "      symbol       1.00      0.75      0.86         4\n",
      "\n",
      "   micro avg       0.70      0.69      0.70       500\n",
      "   macro avg       0.70      0.66      0.64       500\n",
      "weighted avg       0.74      0.69      0.69       500\n",
      "\n"
     ]
    },
    {
     "name": "stderr",
     "output_type": "stream",
     "text": [
      "c:\\Users\\la7tim\\AppData\\Local\\Programs\\Python\\Python311\\Lib\\site-packages\\sklearn\\metrics\\_classification.py:2561: UserWarning: labels size, 39, does not match size of target_names, 47\n",
      "  warnings.warn(\n",
      "c:\\Users\\la7tim\\AppData\\Local\\Programs\\Python\\Python311\\Lib\\site-packages\\sklearn\\metrics\\_classification.py:1471: UndefinedMetricWarning: Precision and F-score are ill-defined and being set to 0.0 in labels with no predicted samples. Use `zero_division` parameter to control this behavior.\n",
      "  _warn_prf(average, modifier, msg_start, len(result))\n",
      "c:\\Users\\la7tim\\AppData\\Local\\Programs\\Python\\Python311\\Lib\\site-packages\\sklearn\\metrics\\_classification.py:1471: UndefinedMetricWarning: Precision and F-score are ill-defined and being set to 0.0 in labels with no predicted samples. Use `zero_division` parameter to control this behavior.\n",
      "  _warn_prf(average, modifier, msg_start, len(result))\n",
      "c:\\Users\\la7tim\\AppData\\Local\\Programs\\Python\\Python311\\Lib\\site-packages\\sklearn\\metrics\\_classification.py:1471: UndefinedMetricWarning: Precision and F-score are ill-defined and being set to 0.0 in labels with no predicted samples. Use `zero_division` parameter to control this behavior.\n",
      "  _warn_prf(average, modifier, msg_start, len(result))\n"
     ]
    }
   ],
   "source": [
    "# Step 4: Evaluate Coarse and Fine Classification\n",
    "# Coarse Classification Report\n",
    "print(\"Coarse Classification Report:\")\n",
    "print(classification_report(y_test_coarse, coarse_predictions, target_names=coarse_encoder.classes_))\n",
    "\n",
    "\n",
    "\n",
    "# Fine Classification Report\n",
    "print(\"Fine Classification Report:\")\n",
    "# Specify the labels parameter to match the number of fine classes in the test set\n",
    "print(classification_report(y_test_fine, fine_predictions, target_names=fine_encoder.classes_, labels=np.unique(y_test_fine)))\n"
   ]
  },
  {
   "cell_type": "code",
   "execution_count": 14,
   "metadata": {},
   "outputs": [
    {
     "name": "stdout",
     "output_type": "stream",
     "text": [
      "Coarse Classifier P@1: 0.76\n",
      "Coarse Classifier P@5: 0.98\n",
      "Fine Classifier P@1: 0.02\n",
      "Fine Classifier P@5: 0.08\n",
      "\n",
      "Performance of the Hierarchical Classifier:\n",
      "  Feature Set  Coarse P@1  Coarse P@5  Fine P@1  Fine P@5\n",
      "0        Word       0.762       0.984     0.016     0.084\n",
      "1         Pos       0.762       0.984     0.016     0.084\n",
      "2       Chunk       0.762       0.984     0.016     0.084\n",
      "3          NE       0.762       0.984     0.016     0.084\n",
      "4        Head       0.762       0.984     0.016     0.084\n",
      "5     RelWord       0.762       0.984     0.016     0.084\n"
     ]
    }
   ],
   "source": [
    "from sklearn.metrics import precision_score\n",
    "import numpy as np\n",
    "import pandas as pd\n",
    "\n",
    "# Function to compute P1 and P<=5\n",
    "def compute_precision_at_k(y_true, decision_scores, k=5):\n",
    "    \"\"\"\n",
    "    Computes precision at k (P@k), i.e., the fraction of correct labels\n",
    "    within the top k predicted labels.\n",
    "    \"\"\"\n",
    "    assert k >= 1, \"k must be at least 1\"\n",
    "    correct_predictions = 0\n",
    "    for true_label, scores in zip(y_true, decision_scores):\n",
    "        # Rank the decision scores and check if true_label is among the top k\n",
    "        top_k_pred = np.argsort(scores)[::-1][:k]  # Sort in descending order\n",
    "        if true_label in top_k_pred:\n",
    "            correct_predictions += 1\n",
    "    return correct_predictions / len(y_true)\n",
    "\n",
    "# Coarse Classifier: Using decision_function for rank-based metrics\n",
    "coarse_predictions = coarse_classifier.predict(X_test)\n",
    "coarse_decision_scores = coarse_classifier.decision_function(X_test)  # Get decision scores\n",
    "\n",
    "# Compute Precision at 1 and Precision at 5 for coarse classification\n",
    "coarse_p1 = compute_precision_at_k(y_test_coarse, coarse_decision_scores, k=1)\n",
    "coarse_p5 = compute_precision_at_k(y_test_coarse, coarse_decision_scores, k=5)\n",
    "\n",
    "# Fine Classifier: P1 and P<=5\n",
    "fine_predictions = []\n",
    "fine_decision_scores = []\n",
    "for i, question in enumerate(X_test):\n",
    "    coarse_label = coarse_predictions[i]\n",
    "    clf = fine_classifiers[coarse_label]\n",
    "    fine_label = clf.predict([question])[0]\n",
    "    fine_predictions.append(fine_label)\n",
    "    fine_decision_scores.append(clf.decision_function([question])[0])  # Fine classifier decision scores\n",
    "\n",
    "# Compute Precision at 1 and Precision at 5 for fine classification\n",
    "fine_p1 = compute_precision_at_k(y_test_fine, fine_decision_scores, k=1)\n",
    "fine_p5 = compute_precision_at_k(y_test_fine, fine_decision_scores, k=5)\n",
    "\n",
    "# Printing Results\n",
    "print(f\"Coarse Classifier P@1: {coarse_p1:.2f}\")\n",
    "print(f\"Coarse Classifier P@5: {coarse_p5:.2f}\")\n",
    "print(f\"Fine Classifier P@1: {fine_p1:.2f}\")\n",
    "print(f\"Fine Classifier P@5: {fine_p5:.2f}\")\n",
    "\n",
    "# Optional: Formatting results as per the structure you provided\n",
    "# Coarse and Fine Precision results can be shown in a table format\n",
    "\n",
    "# Creating a DataFrame for results\n",
    "results_df = pd.DataFrame({\n",
    "    'Feature Set': ['Word', 'Pos', 'Chunk', 'NE', 'Head', 'RelWord'],\n",
    "    'Coarse P@1': [coarse_p1] * 6,  # Here we assume the same P@1 for each feature set\n",
    "    'Coarse P@5': [coarse_p5] * 6,  # Similarly, P@5 for each feature set\n",
    "    'Fine P@1': [fine_p1] * 6,\n",
    "    'Fine P@5': [fine_p5] * 6\n",
    "})\n",
    "\n",
    "# Printing the results in table format\n",
    "print(\"\\nPerformance of the Hierarchical Classifier:\")\n",
    "print(results_df)\n"
   ]
  },
  {
   "cell_type": "code",
   "execution_count": 15,
   "metadata": {},
   "outputs": [
    {
     "data": {
      "image/png": "[encoded data removed]",
      "text/plain": [
       "<Figure size 1000x600 with 1 Axes>"
      ]
     },
     "metadata": {},
     "output_type": "display_data"
    }
   ],
   "source": [
    "import matplotlib.pyplot as plt\n",
    "\n",
    "# Plotting the performance of the hierarchical classifier\n",
    "labels = ['Word', 'Pos', 'Chunk', 'NE', 'Head', 'RelWord']\n",
    "coarse_p1 = [coarse_p1] * 6\n",
    "coarse_p5 = [coarse_p5] * 6\n",
    "fine_p1 = [fine_p1] * 6\n",
    "fine_p5 = [fine_p5] * 6\n",
    "\n",
    "x = np.arange(len(labels))\n",
    "\n",
    "fig, ax = plt.subplots(figsize=(10, 6))\n",
    "\n",
    "ax.bar(x - 0.2, coarse_p1, 0.4, label='Coarse P@1')\n",
    "ax.bar(x + 0.2, coarse_p5, 0.4, label='Coarse P@5')\n",
    "\n",
    "ax.bar(x - 0.2, fine_p1, 0.4, label='Fine P@1')\n",
    "ax.bar(x + 0.2, fine_p5, 0.4, label='Fine P@5')\n",
    "\n",
    "ax.set_xlabel('Feature Set')\n",
    "ax.set_ylabel('Precision')\n",
    "ax.set_title('Performance of the Hierarchical Classifier')\n",
    "ax.set_xticks(x)\n",
    "ax.set_xticklabels(labels)\n",
    "ax.legend()\n",
    "\n",
    "plt.tight_layout()\n",
    "plt.show()\n"
   ]
  }
 ],
 "metadata": {
  "kernelspec": {
   "display_name": "Python 3",
   "language": "python",
   "name": "python3"
  },
  "language_info": {
   "codemirror_mode": {
    "name": "ipython",
    "version": 3
   },
   "file_extension": ".py",
   "mimetype": "text/x-python",
   "name": "python",
   "nbconvert_exporter": "python",
   "pygments_lexer": "ipython3",
   "version": "3.11.4"
  }
 },
 "nbformat": 4,
 "nbformat_minor": 2
}
